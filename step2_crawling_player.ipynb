{
 "cells": [
  {
   "cell_type": "markdown",
   "metadata": {},
   "source": [
    "# 1. Install & Import 라이브러리"
   ]
  },
  {
   "cell_type": "code",
   "execution_count": 1,
   "metadata": {},
   "outputs": [
    {
     "name": "stdout",
     "output_type": "stream",
     "text": [
      "WARNING:tensorflow:From c:\\Python311\\Lib\\site-packages\\keras\\src\\losses.py:2976: The name tf.losses.sparse_softmax_cross_entropy is deprecated. Please use tf.compat.v1.losses.sparse_softmax_cross_entropy instead.\n",
      "\n"
     ]
    }
   ],
   "source": [
    "!pip3 install selenium webdriver_manager beautifulsoup4 pandas\n",
    "\n",
    "from selenium import webdriver\n",
    "from selenium.webdriver.chrome.service import Service\n",
    "from webdriver_manager.chrome import ChromeDriverManager\n",
    "import time\n",
    "import os\n",
    "from bs4 import BeautifulSoup\n",
    "from time import sleep\n",
    "import pandas as pd\n",
    "import numpy as np\n",
    "import re\n",
    "import json\n",
    "from konlpy.tag import Okt\n",
    "from tensorflow.keras.preprocessing.sequence import pad_sequences\n",
    "from tensorflow.keras.preprocessing.text import Tokenizer"
   ]
  },
  {
   "cell_type": "markdown",
   "metadata": {},
   "source": [
    "# 2. 경로 설정"
   ]
  },
  {
   "cell_type": "code",
   "execution_count": 2,
   "metadata": {},
   "outputs": [],
   "source": [
    "PATH_POST_DATA_CSV = 'data_csv/post.csv'\n",
    "PATH_MATCH_STAT_CSV = 'data_csv/match_stats.csv'\n",
    "PATH_PLAYERS_TXT = 'data_txt/players.txt'\n",
    "PATH_URLS_TXT = 'data_txt/URLs.txt'"
   ]
  },
  {
   "cell_type": "markdown",
   "metadata": {},
   "source": [
    "# 3. 데이터 수집"
   ]
  },
  {
   "cell_type": "code",
   "execution_count": null,
   "metadata": {},
   "outputs": [],
   "source": [
    "# 크롤링할 URL 파일 불러오기 (소집명단 발표 단위 선수 명단)\n",
    "with open(PATH_URLS_TXT, 'r') as f:\n",
    "    url_box = set()\n",
    "    for line in f.readlines():\n",
    "        url_box.add(line)\n",
    "\n",
    "# KFA사이트 크롤링 -> A매치 국가대표 선수 리스트 생성\n",
    "player_box = set()\n",
    "def crawling_data(url):\n",
    "    # 웹 드라이버 초기화\n",
    "    options = webdriver.ChromeOptions()\n",
    "    service = Service(ChromeDriverManager().install())\n",
    "    driver = webdriver.Chrome(service=service, options=options)\n",
    "\n",
    "    # 페이지 접속\n",
    "    try:\n",
    "        driver.get(url)\n",
    "        sleep(3)\n",
    "    except Exception as e: \n",
    "        print(e)\n",
    "\n",
    "    # BeautifulSoup 객체 생성\n",
    "    page_source = driver.page_source\n",
    "    soup = BeautifulSoup(page_source, \"html.parser\")\n",
    "\n",
    "    # 선수 이름 추출\n",
    "    for p in soup.find_all('p', {'class':'pic'}):\n",
    "        try:\n",
    "            name = p.text.strip().split()[0]\n",
    "            player_box.add(name)\n",
    "        except Exception:\n",
    "            pass\n",
    "\n",
    "# TXT 파일(선수 리스트)이 없으면 크롤링 시작\n",
    "if os.path.exists(PATH_PLAYERS_TXT):\n",
    "    # TXT 파일이 이미 존재하면 파일에서 데이터 읽기\n",
    "    with open(PATH_PLAYERS_TXT, 'r', encoding='utf-8') as f:\n",
    "        for p in f.readlines():\n",
    "            player_box.add(p.strip())\n",
    "else:\n",
    "    for i, url in enumerate(url_box):\n",
    "        # 진행률\n",
    "        progress = f'{100*i/len(url_box)}'\n",
    "        print(f'\\r{progress}%, ({i}/{len(url_box)})', end = '')\n",
    "\n",
    "        # 크롤링\n",
    "        try:\n",
    "            crawling_data(url)\n",
    "        except Exception as e:\n",
    "            print(e)\n",
    "            \n",
    "    # 수집한 데이터 TXT파일로 저장\n",
    "    for p in player_box:\n",
    "        with open(PATH_PLAYERS_TXT, 'a', encoding='utf-8') as f:\n",
    "            f.write(p+'\\n')\n",
    "            "
   ]
  }
 ],
 "metadata": {
  "kernelspec": {
   "display_name": "Python 3",
   "language": "python",
   "name": "python3"
  },
  "language_info": {
   "codemirror_mode": {
    "name": "ipython",
    "version": 3
   },
   "file_extension": ".py",
   "mimetype": "text/x-python",
   "name": "python",
   "nbconvert_exporter": "python",
   "pygments_lexer": "ipython3",
   "version": "3.11.5"
  }
 },
 "nbformat": 4,
 "nbformat_minor": 2
}
