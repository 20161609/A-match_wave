{
 "cells": [
  {
   "cell_type": "markdown",
   "metadata": {},
   "source": [
    "# 1. Install & Import 라이브러리"
   ]
  },
  {
   "cell_type": "code",
   "execution_count": 8,
   "metadata": {},
   "outputs": [],
   "source": [
    "!pip3 install selenium webdriver_manager pandas numpy konlpy tensorflow\n",
    "\n",
    "from selenium import webdriver\n",
    "from selenium.webdriver.chrome.service import Service\n",
    "from webdriver_manager.chrome import ChromeDriverManager\n",
    "from time import sleep\n",
    "import pandas as pd\n",
    "import numpy as np\n",
    "import re\n",
    "import json\n",
    "from konlpy.tag import Okt\n",
    "from tensorflow.keras.preprocessing.sequence import pad_sequences\n",
    "from tensorflow.keras.preprocessing.text import Tokenizer\n",
    "from datetime import datetime, timedelta\n"
   ]
  },
  {
   "cell_type": "markdown",
   "metadata": {},
   "source": [
    "# 2. 경로 설정"
   ]
  },
  {
   "cell_type": "code",
   "execution_count": 9,
   "metadata": {},
   "outputs": [],
   "source": [
    "PATH_POST_DATA_CSV = 'data_csv/post.csv'\n",
    "PATH_MATCH_STAT_CSV = 'data_csv/match_stats.csv'\n",
    "PATH_PLAYERS_TXT = 'data_txt/players.txt'\n",
    "PATH_MATCH_INFO_PNG = 'data_match_info'"
   ]
  },
  {
   "cell_type": "markdown",
   "metadata": {},
   "source": [
    "# 3. 함수 설정"
   ]
  },
  {
   "cell_type": "code",
   "execution_count": 10,
   "metadata": {},
   "outputs": [],
   "source": [
    "def reading_file(file_path):\n",
    "    encodings = ['cp949', 'utf-8', 'ISO-8859-1', 'cp1252']\n",
    "    for encoding in encodings:\n",
    "        try:\n",
    "            df = pd.read_csv(file_path, encoding=encoding)\n",
    "            return df\n",
    "        except: pass\n",
    "    return None\n",
    "\n",
    "stop_words = ['은','는','이','가','하','아','것','들','의','있','되','수','보','주','등','한']\n",
    "okt = Okt()\n",
    "clean_train_review = []\n",
    "def preprocessing(review, okt, remove_stopwords = False, stop_words =[]):\n",
    "  review_text = re.sub('[^가-힣ㄱ-ㅎㅏ-ㅣ\\\\s]','',review)\n",
    "  word_review = okt.morphs(review_text,stem=True)\n",
    "  if remove_stopwords:\n",
    "    word_review = [token for token in word_review if not token in stop_words]\n",
    "  return word_review\n"
   ]
  },
  {
   "cell_type": "markdown",
   "metadata": {},
   "source": [
    "# 3. 저장된 데이터 수집"
   ]
  },
  {
   "cell_type": "markdown",
   "metadata": {},
   "source": [
    "### 3.1. 선수 정보 불러오기"
   ]
  },
  {
   "cell_type": "code",
   "execution_count": 11,
   "metadata": {},
   "outputs": [
    {
     "name": "stdout",
     "output_type": "stream",
     "text": [
      "이용 홍현석 강성진 정승현 남태희 황의조 박진섭 고승범 오현규 박규현 \n",
      "손흥민 주민규 윤종규 이명재 손준호 고영준 조현우 조유민 권경원 이기제 \n",
      "이상민 문선민 이재익 안현범 김동현 엄원상 김영권 김준홍 조규성 이재성 \n",
      "강상우 양현준 홍철 이동경 조영욱 김승규 김문환 박용우 김태환 권창훈 \n",
      "황인범 이동준 이영재 김진규 원두재 이창근 구성윤 김동준 이순민 이강인 \n",
      "정호연 송민규 백승호 김주성 김민재 송범근 이기혁 박민규 황희찬 박지수 \n",
      "나상호 정우영 김진수 김지수 설영우 "
     ]
    }
   ],
   "source": [
    "# 선수이름이 저장된 TXT파일 불러오기\n",
    "player_box = set()\n",
    "with open(PATH_PLAYERS_TXT, 'r', encoding='utf-8') as f:\n",
    "    for p in f.readlines():\n",
    "        player_box.add(p.strip())\n",
    "\n",
    "# 불러온 선수 명단 출력\n",
    "for i, player in enumerate(player_box):\n",
    "    print(player, end = ' ')\n",
    "    if (i+1)%10==0:\n",
    "        print()"
   ]
  },
  {
   "cell_type": "markdown",
   "metadata": {},
   "source": [
    "### 3.2. 게시글 파일 불러오기"
   ]
  },
  {
   "cell_type": "code",
   "execution_count": null,
   "metadata": {},
   "outputs": [],
   "source": [
    "df_post = reading_file(PATH_POST_DATA_CSV)\n",
    "df_post"
   ]
  },
  {
   "cell_type": "markdown",
   "metadata": {},
   "source": [
    "### 3.3. 매치 정보 불러오기"
   ]
  },
  {
   "cell_type": "code",
   "execution_count": null,
   "metadata": {},
   "outputs": [],
   "source": [
    "df_match = reading_file(PATH_MATCH_STAT_CSV)\n",
    "df_match"
   ]
  },
  {
   "cell_type": "markdown",
   "metadata": {},
   "source": [
    "### 3.4. 경기 시간 기준, 36시간 이내 선수이름 언급 빈도"
   ]
  },
  {
   "cell_type": "code",
   "execution_count": 12,
   "metadata": {},
   "outputs": [
    {
     "name": "stdout",
     "output_type": "stream",
     "text": [
      "100.00%, 66/66"
     ]
    }
   ],
   "source": [
    "# 게시글 기록 시간 범위\n",
    "begin = df_post['DATE_TIME'].min()\n",
    "end = df_post['DATE_TIME'].max()\n",
    "\n",
    "# 빈도 계산\n",
    "match_post = []\n",
    "for i in range(len(df_match)):\n",
    "    # 진행률\n",
    "    progress = f'{100*(i+1)/len(df_match):.2f}'\n",
    "    print(f'\\r{progress}%, {i+1}/{len(df_match)}', end='')\n",
    "\n",
    "    # 매치 정보\n",
    "    match_info = df_match.iloc[i]\n",
    "    match_time = match_info['DATE_TIME']\n",
    "\n",
    "    # 집계\n",
    "    if begin <= match_time <= end: # 범위 내의 데이터 한정\n",
    "        # 경기시간 기준 36시간 이내 게시글 수집\n",
    "        time_value = datetime.strptime(match_time, '%Y-%m-%d %H:%M:%S')\n",
    "        match_time_later = str(time_value + timedelta(hours=36))\n",
    "        indexes = df_post[(df_post['DATE_TIME'] >= match_time) & (df_post['DATE_TIME'] < match_time_later)].index\n",
    "\n",
    "        # 빈도 계산   \n",
    "        if len(indexes) > 0:\n",
    "            frequency = {}\n",
    "            for index in indexes:\n",
    "                post = df_post['POST'][index]\n",
    "                for word in preprocessing(post ,okt,remove_stopwords=True,stop_words= stop_words):\n",
    "                    if not word in player_box:\n",
    "                        continue\n",
    "                    if not word in frequency:\n",
    "                        frequency[word] = 1\n",
    "                    frequency[word] += 1\n",
    "            sorted_frequency = sorted(frequency.items(), key=lambda x: x[1], reverse=True)\n",
    "\n",
    "            match_post.append([match_info, sorted_frequency])\n"
   ]
  },
  {
   "cell_type": "markdown",
   "metadata": {},
   "source": [
    "# 4. 그래프 출력 -> data_match_info 로 저장"
   ]
  },
  {
   "cell_type": "code",
   "execution_count": 16,
   "metadata": {},
   "outputs": [
    {
     "name": "stdout",
     "output_type": "stream",
     "text": [
      "'explode' must be of length 'x'\n",
      "'explode' must be of length 'x'\n"
     ]
    },
    {
     "data": {
      "image/png": "[encoded data removed]",
      "text/plain": [
       "<Figure size 1000x600 with 1 Axes>"
      ]
     },
     "metadata": {},
     "output_type": "display_data"
    },
    {
     "data": {
      "image/png": "[encoded data removed]",
      "text/plain": [
       "<Figure size 1000x600 with 1 Axes>"
      ]
     },
     "metadata": {},
     "output_type": "display_data"
    }
   ],
   "source": [
    "import matplotlib.pyplot as plt\n",
    "\n",
    "# 한글 폰트 및 마이너스 기호 설정\n",
    "plt.rcParams['font.family'] = 'Malgun Gothic'\n",
    "plt.rcParams['axes.unicode_minus'] = False\n",
    "\n",
    "def frequency_graph(index, match_post):\n",
    "    try:\n",
    "        match_info, frequency = match_post[index]\n",
    "        top_5 = frequency[:5]\n",
    "        players, scores = zip(*top_5)\n",
    "\n",
    "        # 그래프 설정\n",
    "        plt.figure(figsize=(10, 6))  # 그래프와 텍스트 정보를 위한 공간 확보\n",
    "        explode = (0.1, 0, 0, 0, 0)\n",
    "        colors = plt.get_cmap('Pastel1')(np.linspace(0.2, 0.7, len(top_5)))\n",
    "        \n",
    "        # 파이 차트 그리기\n",
    "        plt.pie(scores, labels=players, autopct='%1.1f%%', startangle=140, explode=explode, shadow=True, colors=colors)\n",
    "        plt.title('Top 5 Players Frequency')\n",
    "        \n",
    "        # match_info 정보를 텍스트로 추가\n",
    "        match_info_str = f\"{match_info['DATE_TIME']}\\nStadium: {match_info['Stadium']}\\nKorea vs. {match_info['Opponent']}\\nScore: {match_info['Korea_score']} - {match_info['Oppo_score']}\"\n",
    "        match_info_str = f\"{match_info['DATE_TIME']}\\nStadium: {match_info['Stadium']}\\nKorea vs. {match_info['Opponent']}\\nScore: {match_info['Korea_score']} - {match_info['Oppo_score']}\"\n",
    "\n",
    "        plt.annotate(match_info_str, xy=(1, 0), xycoords='axes fraction', fontsize=10, xytext=(-20, 20), textcoords='offset points', ha='right', va='bottom')\n",
    "        \n",
    "        # 파일 저장\n",
    "        plt.savefig(f'{PATH_MATCH_INFO_PNG}/match_info_{index}.png', bbox_inches='tight')\n",
    "        plt.close()  # 현재 그림 닫기\n",
    "    except Exception as e:\n",
    "        print(e)\n",
    "\n",
    "for i in range(len(match_post)):\n",
    "    frequency_graph(i, match_post)\n"
   ]
  },
  {
   "cell_type": "code",
   "execution_count": null,
   "metadata": {},
   "outputs": [],
   "source": [
    "import matplotlib.pyplot as plt\n",
    "\n",
    "# 가장 최근 경기의 선수 언급 빈도 데이터를 예시로 사용\n",
    "if match_post:\n",
    "    match_info, frequencies = match_post[-1]  # 가장 최근 경기 데이터\n",
    "    labels, sizes = zip(*frequencies)  # 라벨과 사이즈 분리\n",
    "\n",
    "    fig1, ax1 = plt.subplots()\n",
    "    ax1.pie(sizes, labels=labels, autopct='%1.1f%%',\n",
    "            shadow=True, startangle=90)\n",
    "    ax1.axis('equal')  # Equal aspect ratio ensures that pie is drawn as a circle.\n",
    "\n",
    "    plt.show()\n"
   ]
  }
 ],
 "metadata": {
  "kernelspec": {
   "display_name": "Python 3",
   "language": "python",
   "name": "python3"
  },
  "language_info": {
   "codemirror_mode": {
    "name": "ipython",
    "version": 3
   },
   "file_extension": ".py",
   "mimetype": "text/x-python",
   "name": "python",
   "nbconvert_exporter": "python",
   "pygments_lexer": "ipython3",
   "version": "3.11.5"
  }
 },
 "nbformat": 4,
 "nbformat_minor": 2
}
