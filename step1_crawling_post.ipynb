{
 "cells": [
  {
   "cell_type": "markdown",
   "metadata": {},
   "source": [
    "# 1. Install & Import 라이브러리"
   ]
  },
  {
   "cell_type": "code",
   "execution_count": 8,
   "metadata": {},
   "outputs": [
    {
     "name": "stdout",
     "output_type": "stream",
     "text": [
      "Defaulting to user installation because normal site-packages is not writeable\n",
      "Requirement already satisfied: selenium in c:\\users\\안호준\\appdata\\roaming\\python\\python38\\site-packages (4.17.2)\n",
      "Collecting webdriver_manager\n",
      "  Using cached webdriver_manager-4.0.1-py2.py3-none-any.whl.metadata (12 kB)\n",
      "Requirement already satisfied: beautifulsoup4 in c:\\users\\안호준\\appdata\\roaming\\python\\python38\\site-packages (4.12.2)\n",
      "Requirement already satisfied: pandas in c:\\users\\안호준\\appdata\\roaming\\python\\python38\\site-packages (2.0.3)\n",
      "Requirement already satisfied: urllib3<3,>=1.26 in c:\\users\\안호준\\appdata\\roaming\\python\\python38\\site-packages (from urllib3[socks]<3,>=1.26->selenium) (2.1.0)\n",
      "Requirement already satisfied: trio~=0.17 in c:\\users\\안호준\\appdata\\roaming\\python\\python38\\site-packages (from selenium) (0.24.0)\n",
      "Requirement already satisfied: trio-websocket~=0.9 in c:\\users\\안호준\\appdata\\roaming\\python\\python38\\site-packages (from selenium) (0.11.1)\n",
      "Requirement already satisfied: certifi>=2021.10.8 in c:\\users\\안호준\\appdata\\roaming\\python\\python38\\site-packages (from selenium) (2023.11.17)\n",
      "Requirement already satisfied: typing_extensions>=4.9.0 in c:\\users\\안호준\\appdata\\roaming\\python\\python38\\site-packages (from selenium) (4.9.0)\n",
      "Requirement already satisfied: requests in c:\\users\\안호준\\appdata\\roaming\\python\\python38\\site-packages (from webdriver_manager) (2.31.0)\n",
      "Collecting python-dotenv (from webdriver_manager)\n",
      "  Using cached python_dotenv-1.0.1-py3-none-any.whl.metadata (23 kB)\n",
      "Requirement already satisfied: packaging in c:\\users\\안호준\\appdata\\roaming\\python\\python38\\site-packages (from webdriver_manager) (23.2)\n",
      "Requirement already satisfied: soupsieve>1.2 in c:\\users\\안호준\\appdata\\roaming\\python\\python38\\site-packages (from beautifulsoup4) (2.5)\n",
      "Requirement already satisfied: python-dateutil>=2.8.2 in c:\\users\\안호준\\appdata\\roaming\\python\\python38\\site-packages (from pandas) (2.8.2)\n",
      "Requirement already satisfied: pytz>=2020.1 in c:\\users\\안호준\\appdata\\roaming\\python\\python38\\site-packages (from pandas) (2023.3.post1)\n",
      "Requirement already satisfied: tzdata>=2022.1 in c:\\users\\안호준\\appdata\\roaming\\python\\python38\\site-packages (from pandas) (2023.4)\n",
      "Requirement already satisfied: numpy>=1.20.3 in c:\\users\\안호준\\appdata\\roaming\\python\\python38\\site-packages (from pandas) (1.24.3)\n",
      "Requirement already satisfied: six>=1.5 in c:\\users\\안호준\\appdata\\roaming\\python\\python38\\site-packages (from python-dateutil>=2.8.2->pandas) (1.16.0)\n",
      "Requirement already satisfied: attrs>=20.1.0 in c:\\users\\안호준\\appdata\\roaming\\python\\python38\\site-packages (from trio~=0.17->selenium) (23.2.0)\n",
      "Requirement already satisfied: sortedcontainers in c:\\users\\안호준\\appdata\\roaming\\python\\python38\\site-packages (from trio~=0.17->selenium) (2.4.0)\n",
      "Requirement already satisfied: idna in c:\\users\\안호준\\appdata\\roaming\\python\\python38\\site-packages (from trio~=0.17->selenium) (3.6)\n",
      "Requirement already satisfied: outcome in c:\\users\\안호준\\appdata\\roaming\\python\\python38\\site-packages (from trio~=0.17->selenium) (1.3.0.post0)\n",
      "Requirement already satisfied: sniffio>=1.3.0 in c:\\users\\안호준\\appdata\\roaming\\python\\python38\\site-packages (from trio~=0.17->selenium) (1.3.0)\n",
      "Requirement already satisfied: cffi>=1.14 in c:\\users\\안호준\\appdata\\roaming\\python\\python38\\site-packages (from trio~=0.17->selenium) (1.16.0)\n",
      "Requirement already satisfied: exceptiongroup in c:\\users\\안호준\\appdata\\roaming\\python\\python38\\site-packages (from trio~=0.17->selenium) (1.2.0)\n",
      "Requirement already satisfied: wsproto>=0.14 in c:\\users\\안호준\\appdata\\roaming\\python\\python38\\site-packages (from trio-websocket~=0.9->selenium) (1.2.0)\n",
      "Requirement already satisfied: pysocks!=1.5.7,<2.0,>=1.5.6 in c:\\users\\안호준\\appdata\\roaming\\python\\python38\\site-packages (from urllib3[socks]<3,>=1.26->selenium) (1.7.1)\n",
      "Requirement already satisfied: charset-normalizer<4,>=2 in c:\\users\\안호준\\appdata\\roaming\\python\\python38\\site-packages (from requests->webdriver_manager) (3.3.2)\n",
      "Requirement already satisfied: pycparser in c:\\users\\안호준\\appdata\\roaming\\python\\python38\\site-packages (from cffi>=1.14->trio~=0.17->selenium) (2.21)\n",
      "Requirement already satisfied: h11<1,>=0.9.0 in c:\\users\\안호준\\appdata\\roaming\\python\\python38\\site-packages (from wsproto>=0.14->trio-websocket~=0.9->selenium) (0.14.0)\n",
      "Using cached webdriver_manager-4.0.1-py2.py3-none-any.whl (27 kB)\n",
      "Using cached python_dotenv-1.0.1-py3-none-any.whl (19 kB)\n",
      "Installing collected packages: python-dotenv, webdriver_manager\n",
      "Successfully installed python-dotenv-1.0.1 webdriver_manager-4.0.1\n"
     ]
    },
    {
     "name": "stderr",
     "output_type": "stream",
     "text": [
      "WARNING: pip is being invoked by an old script wrapper. This will fail in a future version of pip.\n",
      "Please see https://github.com/pypa/pip/issues/5599 for advice on fixing the underlying issue.\n",
      "To avoid this problem you can invoke Python with '-m pip' instead of running pip directly.\n"
     ]
    }
   ],
   "source": [
    "!pip3 install selenium webdriver_manager beautifulsoup4 pandas\n",
    "\n",
    "from selenium import webdriver\n",
    "from selenium.webdriver.chrome.service import Service\n",
    "from webdriver_manager.chrome import ChromeDriverManager\n",
    "import time\n",
    "import os\n",
    "from bs4 import BeautifulSoup\n",
    "from time import sleep\n",
    "import pandas as pd\n",
    "import json\n"
   ]
  },
  {
   "cell_type": "markdown",
   "metadata": {},
   "source": [
    "# 2. 경로 및 URL설정"
   ]
  },
  {
   "cell_type": "code",
   "execution_count": 2,
   "metadata": {},
   "outputs": [],
   "source": [
    "PATH_POST_DATA_CSV = 'data_csv/post.csv'\n",
    "PATH_POST_DATA_JSON = 'data_json/post.json'\n",
    "\n",
    "URL_BASE = 'https://gall.dcinside.com/board/lists/?id=football_new8&page='"
   ]
  },
  {
   "cell_type": "markdown",
   "metadata": {},
   "source": [
    "# 3. 함수 설정"
   ]
  },
  {
   "cell_type": "code",
   "execution_count": 3,
   "metadata": {},
   "outputs": [],
   "source": [
    "def reading_file(file_path):\n",
    "    encodings = ['cp949', 'utf-8', 'ISO-8859-1', 'cp1252']  # List of encodings to try\n",
    "    for encoding in encodings:\n",
    "        try:\n",
    "            df = pd.read_csv(file_path, encoding=encoding)\n",
    "            return df  # or process your df\n",
    "        except: pass\n",
    "    return None\n"
   ]
  },
  {
   "cell_type": "markdown",
   "metadata": {},
   "source": [
    "# 4. 크롤링 (해외축구 갤러리 게시글)"
   ]
  },
  {
   "cell_type": "code",
   "execution_count": null,
   "metadata": {},
   "outputs": [],
   "source": [
    "# 게시글 데이터 파일 불러오기\n",
    "with open(PATH_POST_DATA_JSON, 'r', encoding='utf-8') as f:\n",
    "    data_post = json.load(f)\n",
    "\n",
    "# 해외축구갤러리 크롤링 -> 게시글 타이틀\n",
    "def crawling_data():\n",
    "    # 웹 드라이버 초기화\n",
    "    options = webdriver.ChromeOptions()\n",
    "    service = Service(ChromeDriverManager().install())\n",
    "    driver = webdriver.Chrome(service=service, options=options)\n",
    "\n",
    "    # 설정한 페이지 크기만큼 반복\n",
    "    max_page = 100001  \n",
    "    for page in range(1, max_page)[::100]:\n",
    "        # 진행률\n",
    "        progress = f'{((page+1) / max_page) * 100:.3f}'\n",
    "        print(f'\\r{progress}%, {page}', end ='')\n",
    "        \n",
    "        # 페이지 접속\n",
    "        try:\n",
    "            driver.get(f'{URL_BASE}{page}')  \n",
    "            sleep(3) # 로딩 대기\n",
    "        except Exception as e: \n",
    "            print(e)\n",
    "            continue\n",
    "\n",
    "        # BeautifulSoup 객체 생성\n",
    "        page_source = driver.page_source\n",
    "        soup = BeautifulSoup(page_source, \"html.parser\")  \n",
    "\n",
    "        # 페이지 내 게시물 정보 추출\n",
    "        for tr in soup.find_all('tr', {'class':'ub-content us-post'}):\n",
    "            try:\n",
    "                # 게시물 내용 추출\n",
    "                date = tr.find('td', {'class':'gall_date'})['title']\n",
    "                content = tr.find('a').text.strip('\\n')\n",
    "                \n",
    "                # 변경사항을 JSON 파일에 바로 저장\n",
    "                if not date in data_post:\n",
    "                    data_post[date] = [date, content]\n",
    "                    with open(PATH_POST_DATA_JSON, 'w', encoding='utf-8') as f: \n",
    "                        json.dump(data_post, f)\n",
    "            except Exception as e:\n",
    "                print(e)\n",
    "                pass\n",
    "\n",
    "# CSV 파일이 없으면 크롤링 시작\n",
    "if os.path.exists(PATH_POST_DATA_CSV) == False:\n",
    "    # 데이터 크롤링\n",
    "    crawling_data()\n",
    "    \n",
    "    # 데이터 포맷 조정\n",
    "    data_box = []\n",
    "    for key in data_post:\n",
    "        date, post = data_post[key]\n",
    "        data_box.append([date, post])\n",
    "\n",
    "    # DataFrame 생성 후 CSV로 저장\n",
    "    df_post = pd.DataFrame(list(data_post.values()), columns=['DATE', 'CONTENT'])\n",
    "    df_post.to_csv(PATH_POST_DATA_CSV, index=False)\n",
    "else:\n",
    "    # CSV 파일이 이미 존재하면 파일에서 데이터 읽기\n",
    "    df_post = reading_file(PATH_POST_DATA_CSV)\n",
    "\n",
    "df_post  # 최종 데이터 프레임 출력\n"
   ]
  }
 ],
 "metadata": {
  "kernelspec": {
   "display_name": "Python 3",
   "language": "python",
   "name": "python3"
  },
  "language_info": {
   "codemirror_mode": {
    "name": "ipython",
    "version": 3
   },
   "file_extension": ".py",
   "mimetype": "text/x-python",
   "name": "python",
   "nbconvert_exporter": "python",
   "pygments_lexer": "ipython3",
   "version": "3.11.5"
  }
 },
 "nbformat": 4,
 "nbformat_minor": 2
}
